{
 "cells": [
  {
   "cell_type": "markdown",
   "metadata": {},
   "source": [
    "---\n",
    "\n",
    "<center><h1>📍 📍 Preprocessing Timeseries Data 📍 📍</h1></center>\n",
    "\n",
    "---\n",
    "\n",
    "\n",
    "**`Pandas`** contains extensive capabilities and features for working with time series data for all domains. Using the NumPy datetime64 and timedelta64 dtypes, pandas has consolidated a large number of features from other Python libraries like scikits.timeseries as well as created a tremendous amount of new functionality for manipulating time series data.\n",
    "\n",
    "---"
   ]
  },
  {
   "cell_type": "code",
   "execution_count": 1,
   "metadata": {
    "scrolled": false
   },
   "outputs": [],
   "source": [
    "# importing the pandas library and datetime module of Python Standard Library\n",
    "import pandas as pd\n",
    "import datetime"
   ]
  },
  {
   "cell_type": "code",
   "execution_count": 2,
   "metadata": {
    "scrolled": false
   },
   "outputs": [],
   "source": [
    "# read the data set\n",
    "data = pd.read_csv('Time series data/time_series.csv')"
   ]
  },
  {
   "cell_type": "code",
   "execution_count": 3,
   "metadata": {
    "scrolled": false
   },
   "outputs": [
    {
     "data": {
      "text/html": [
       "<div>\n",
       "<style scoped>\n",
       "    .dataframe tbody tr th:only-of-type {\n",
       "        vertical-align: middle;\n",
       "    }\n",
       "\n",
       "    .dataframe tbody tr th {\n",
       "        vertical-align: top;\n",
       "    }\n",
       "\n",
       "    .dataframe thead th {\n",
       "        text-align: right;\n",
       "    }\n",
       "</style>\n",
       "<table border=\"1\" class=\"dataframe\">\n",
       "  <thead>\n",
       "    <tr style=\"text-align: right;\">\n",
       "      <th></th>\n",
       "      <th>ID</th>\n",
       "      <th>Datetime</th>\n",
       "      <th>Count</th>\n",
       "    </tr>\n",
       "  </thead>\n",
       "  <tbody>\n",
       "    <tr>\n",
       "      <th>0</th>\n",
       "      <td>0</td>\n",
       "      <td>25-08-2012 00:00</td>\n",
       "      <td>8</td>\n",
       "    </tr>\n",
       "    <tr>\n",
       "      <th>1</th>\n",
       "      <td>1</td>\n",
       "      <td>25-08-2012 01:00</td>\n",
       "      <td>2</td>\n",
       "    </tr>\n",
       "    <tr>\n",
       "      <th>2</th>\n",
       "      <td>2</td>\n",
       "      <td>25-08-2012 02:00</td>\n",
       "      <td>6</td>\n",
       "    </tr>\n",
       "    <tr>\n",
       "      <th>3</th>\n",
       "      <td>3</td>\n",
       "      <td>25-08-2012 03:00</td>\n",
       "      <td>2</td>\n",
       "    </tr>\n",
       "    <tr>\n",
       "      <th>4</th>\n",
       "      <td>4</td>\n",
       "      <td>25-08-2012 04:00</td>\n",
       "      <td>2</td>\n",
       "    </tr>\n",
       "  </tbody>\n",
       "</table>\n",
       "</div>"
      ],
      "text/plain": [
       "   ID          Datetime  Count\n",
       "0   0  25-08-2012 00:00      8\n",
       "1   1  25-08-2012 01:00      2\n",
       "2   2  25-08-2012 02:00      6\n",
       "3   3  25-08-2012 03:00      2\n",
       "4   4  25-08-2012 04:00      2"
      ]
     },
     "execution_count": 3,
     "metadata": {},
     "output_type": "execute_result"
    }
   ],
   "source": [
    "# view the top rows\n",
    "data.head(5)"
   ]
  },
  {
   "cell_type": "markdown",
   "metadata": {},
   "source": [
    "---\n",
    "\n",
    "***Data Types of columns***\n",
    "\n",
    "---"
   ]
  },
  {
   "cell_type": "code",
   "execution_count": 4,
   "metadata": {
    "scrolled": false
   },
   "outputs": [
    {
     "data": {
      "text/plain": [
       "ID           int64\n",
       "Datetime    object\n",
       "Count        int64\n",
       "dtype: object"
      ]
     },
     "execution_count": 4,
     "metadata": {},
     "output_type": "execute_result"
    }
   ],
   "source": [
    "data.dtypes"
   ]
  },
  {
   "cell_type": "markdown",
   "metadata": {},
   "source": [
    "***By Default: All datetime based columns are considered as strings.***\n",
    "\n",
    "---\n",
    "\n",
    "#### `CHANGE THE DATA TYPE TO DATETIME`\n",
    "\n",
    "---"
   ]
  },
  {
   "cell_type": "code",
   "execution_count": 5,
   "metadata": {
    "scrolled": false
   },
   "outputs": [],
   "source": [
    "# change type to datetime\n",
    "data.Datetime = pd.to_datetime(data.Datetime)"
   ]
  },
  {
   "cell_type": "code",
   "execution_count": 6,
   "metadata": {
    "scrolled": false
   },
   "outputs": [
    {
     "data": {
      "text/plain": [
       "ID                   int64\n",
       "Datetime    datetime64[ns]\n",
       "Count                int64\n",
       "dtype: object"
      ]
     },
     "execution_count": 6,
     "metadata": {},
     "output_type": "execute_result"
    }
   ],
   "source": [
    "# check the data types again\n",
    "data.dtypes"
   ]
  },
  {
   "cell_type": "code",
   "execution_count": 7,
   "metadata": {
    "scrolled": false
   },
   "outputs": [
    {
     "data": {
      "text/html": [
       "<div>\n",
       "<style scoped>\n",
       "    .dataframe tbody tr th:only-of-type {\n",
       "        vertical-align: middle;\n",
       "    }\n",
       "\n",
       "    .dataframe tbody tr th {\n",
       "        vertical-align: top;\n",
       "    }\n",
       "\n",
       "    .dataframe thead th {\n",
       "        text-align: right;\n",
       "    }\n",
       "</style>\n",
       "<table border=\"1\" class=\"dataframe\">\n",
       "  <thead>\n",
       "    <tr style=\"text-align: right;\">\n",
       "      <th></th>\n",
       "      <th>ID</th>\n",
       "      <th>Datetime</th>\n",
       "      <th>Count</th>\n",
       "    </tr>\n",
       "  </thead>\n",
       "  <tbody>\n",
       "    <tr>\n",
       "      <th>0</th>\n",
       "      <td>0</td>\n",
       "      <td>2012-08-25 00:00:00</td>\n",
       "      <td>8</td>\n",
       "    </tr>\n",
       "    <tr>\n",
       "      <th>1</th>\n",
       "      <td>1</td>\n",
       "      <td>2012-08-25 01:00:00</td>\n",
       "      <td>2</td>\n",
       "    </tr>\n",
       "    <tr>\n",
       "      <th>2</th>\n",
       "      <td>2</td>\n",
       "      <td>2012-08-25 02:00:00</td>\n",
       "      <td>6</td>\n",
       "    </tr>\n",
       "    <tr>\n",
       "      <th>3</th>\n",
       "      <td>3</td>\n",
       "      <td>2012-08-25 03:00:00</td>\n",
       "      <td>2</td>\n",
       "    </tr>\n",
       "    <tr>\n",
       "      <th>4</th>\n",
       "      <td>4</td>\n",
       "      <td>2012-08-25 04:00:00</td>\n",
       "      <td>2</td>\n",
       "    </tr>\n",
       "    <tr>\n",
       "      <th>...</th>\n",
       "      <td>...</td>\n",
       "      <td>...</td>\n",
       "      <td>...</td>\n",
       "    </tr>\n",
       "    <tr>\n",
       "      <th>18283</th>\n",
       "      <td>18283</td>\n",
       "      <td>2014-09-25 19:00:00</td>\n",
       "      <td>868</td>\n",
       "    </tr>\n",
       "    <tr>\n",
       "      <th>18284</th>\n",
       "      <td>18284</td>\n",
       "      <td>2014-09-25 20:00:00</td>\n",
       "      <td>732</td>\n",
       "    </tr>\n",
       "    <tr>\n",
       "      <th>18285</th>\n",
       "      <td>18285</td>\n",
       "      <td>2014-09-25 21:00:00</td>\n",
       "      <td>702</td>\n",
       "    </tr>\n",
       "    <tr>\n",
       "      <th>18286</th>\n",
       "      <td>18286</td>\n",
       "      <td>2014-09-25 22:00:00</td>\n",
       "      <td>580</td>\n",
       "    </tr>\n",
       "    <tr>\n",
       "      <th>18287</th>\n",
       "      <td>18287</td>\n",
       "      <td>2014-09-25 23:00:00</td>\n",
       "      <td>534</td>\n",
       "    </tr>\n",
       "  </tbody>\n",
       "</table>\n",
       "<p>18288 rows × 3 columns</p>\n",
       "</div>"
      ],
      "text/plain": [
       "          ID            Datetime  Count\n",
       "0          0 2012-08-25 00:00:00      8\n",
       "1          1 2012-08-25 01:00:00      2\n",
       "2          2 2012-08-25 02:00:00      6\n",
       "3          3 2012-08-25 03:00:00      2\n",
       "4          4 2012-08-25 04:00:00      2\n",
       "...      ...                 ...    ...\n",
       "18283  18283 2014-09-25 19:00:00    868\n",
       "18284  18284 2014-09-25 20:00:00    732\n",
       "18285  18285 2014-09-25 21:00:00    702\n",
       "18286  18286 2014-09-25 22:00:00    580\n",
       "18287  18287 2014-09-25 23:00:00    534\n",
       "\n",
       "[18288 rows x 3 columns]"
      ]
     },
     "execution_count": 7,
     "metadata": {},
     "output_type": "execute_result"
    }
   ],
   "source": [
    "data"
   ]
  },
  {
   "cell_type": "code",
   "execution_count": 8,
   "metadata": {
    "scrolled": false
   },
   "outputs": [
    {
     "data": {
      "text/plain": [
       "0        Saturday\n",
       "1        Saturday\n",
       "2        Saturday\n",
       "3        Saturday\n",
       "4        Saturday\n",
       "           ...   \n",
       "18283    Thursday\n",
       "18284    Thursday\n",
       "18285    Thursday\n",
       "18286    Thursday\n",
       "18287    Thursday\n",
       "Name: Datetime, Length: 18288, dtype: object"
      ]
     },
     "execution_count": 8,
     "metadata": {},
     "output_type": "execute_result"
    }
   ],
   "source": [
    "data.Datetime.apply(lambda x: x.day_name())"
   ]
  },
  {
   "cell_type": "code",
   "execution_count": 9,
   "metadata": {
    "scrolled": false
   },
   "outputs": [
    {
     "data": {
      "text/plain": [
       "0           August\n",
       "1           August\n",
       "2           August\n",
       "3           August\n",
       "4           August\n",
       "           ...    \n",
       "18283    September\n",
       "18284    September\n",
       "18285    September\n",
       "18286    September\n",
       "18287    September\n",
       "Name: Datetime, Length: 18288, dtype: object"
      ]
     },
     "execution_count": 9,
     "metadata": {},
     "output_type": "execute_result"
    }
   ],
   "source": [
    "data.Datetime.apply(lambda x: x.month_name())"
   ]
  },
  {
   "cell_type": "markdown",
   "metadata": {},
   "source": [
    "---\n",
    "\n",
    "***Let's see another data file with the time series data.***\n",
    "\n",
    "---"
   ]
  },
  {
   "cell_type": "code",
   "execution_count": 10,
   "metadata": {
    "scrolled": false
   },
   "outputs": [],
   "source": [
    "data_2 = pd.read_csv('TIme series data/time_series_2.csv')"
   ]
  },
  {
   "cell_type": "code",
   "execution_count": 11,
   "metadata": {
    "scrolled": false
   },
   "outputs": [
    {
     "data": {
      "text/html": [
       "<div>\n",
       "<style scoped>\n",
       "    .dataframe tbody tr th:only-of-type {\n",
       "        vertical-align: middle;\n",
       "    }\n",
       "\n",
       "    .dataframe tbody tr th {\n",
       "        vertical-align: top;\n",
       "    }\n",
       "\n",
       "    .dataframe thead th {\n",
       "        text-align: right;\n",
       "    }\n",
       "</style>\n",
       "<table border=\"1\" class=\"dataframe\">\n",
       "  <thead>\n",
       "    <tr style=\"text-align: right;\">\n",
       "      <th></th>\n",
       "      <th>ID</th>\n",
       "      <th>Datetime</th>\n",
       "      <th>Count</th>\n",
       "    </tr>\n",
       "  </thead>\n",
       "  <tbody>\n",
       "    <tr>\n",
       "      <th>0</th>\n",
       "      <td>0</td>\n",
       "      <td>25 Aug 2012</td>\n",
       "      <td>8</td>\n",
       "    </tr>\n",
       "    <tr>\n",
       "      <th>1</th>\n",
       "      <td>1</td>\n",
       "      <td>25 Aug 2012</td>\n",
       "      <td>2</td>\n",
       "    </tr>\n",
       "    <tr>\n",
       "      <th>2</th>\n",
       "      <td>2</td>\n",
       "      <td>25 Aug 2012</td>\n",
       "      <td>6</td>\n",
       "    </tr>\n",
       "    <tr>\n",
       "      <th>3</th>\n",
       "      <td>3</td>\n",
       "      <td>25 Aug 2012</td>\n",
       "      <td>2</td>\n",
       "    </tr>\n",
       "    <tr>\n",
       "      <th>4</th>\n",
       "      <td>4</td>\n",
       "      <td>25 Aug 2012</td>\n",
       "      <td>2</td>\n",
       "    </tr>\n",
       "    <tr>\n",
       "      <th>...</th>\n",
       "      <td>...</td>\n",
       "      <td>...</td>\n",
       "      <td>...</td>\n",
       "    </tr>\n",
       "    <tr>\n",
       "      <th>18283</th>\n",
       "      <td>18283</td>\n",
       "      <td>25 Sep 2014</td>\n",
       "      <td>868</td>\n",
       "    </tr>\n",
       "    <tr>\n",
       "      <th>18284</th>\n",
       "      <td>18284</td>\n",
       "      <td>25 Sep 2014</td>\n",
       "      <td>732</td>\n",
       "    </tr>\n",
       "    <tr>\n",
       "      <th>18285</th>\n",
       "      <td>18285</td>\n",
       "      <td>25 Sep 2014</td>\n",
       "      <td>702</td>\n",
       "    </tr>\n",
       "    <tr>\n",
       "      <th>18286</th>\n",
       "      <td>18286</td>\n",
       "      <td>25 Sep 2014</td>\n",
       "      <td>580</td>\n",
       "    </tr>\n",
       "    <tr>\n",
       "      <th>18287</th>\n",
       "      <td>18287</td>\n",
       "      <td>25 Sep 2014</td>\n",
       "      <td>534</td>\n",
       "    </tr>\n",
       "  </tbody>\n",
       "</table>\n",
       "<p>18288 rows × 3 columns</p>\n",
       "</div>"
      ],
      "text/plain": [
       "          ID      Datetime  Count\n",
       "0          0  25 Aug 2012       8\n",
       "1          1  25 Aug 2012       2\n",
       "2          2  25 Aug 2012       6\n",
       "3          3  25 Aug 2012       2\n",
       "4          4  25 Aug 2012       2\n",
       "...      ...           ...    ...\n",
       "18283  18283  25 Sep 2014     868\n",
       "18284  18284  25 Sep 2014     732\n",
       "18285  18285  25 Sep 2014     702\n",
       "18286  18286  25 Sep 2014     580\n",
       "18287  18287  25 Sep 2014     534\n",
       "\n",
       "[18288 rows x 3 columns]"
      ]
     },
     "execution_count": 11,
     "metadata": {},
     "output_type": "execute_result"
    }
   ],
   "source": [
    "# view the top rows of the data\n",
    "data_2"
   ]
  },
  {
   "cell_type": "markdown",
   "metadata": {},
   "source": [
    "---\n",
    "\n",
    "***We can read the date time by specifying the format.***\n",
    "\n",
    "***Here are some of the common used directives.***\n",
    "\n",
    "----"
   ]
  },
  {
   "cell_type": "markdown",
   "metadata": {},
   "source": [
    "| **Directive** | **Meaning**                                            |\n",
    "| ---           | ---                                                    |\n",
    "|  **%a**       | Weekday as locale’s abbreviated name.                  |\n",
    "|  **%A**       | Weekday as locale’s full name.                         |  \n",
    "|  **%d**       | Day of the month as a zero-padded decimal number.      |\n",
    "|  **%b**       | Month as locale’s abbreviated name.\t                 |\n",
    "|  **%B**       | Month as locale’s full name.\t                         |\n",
    "|  **%m**       | Month as a zero-padded decimal number.                 |\n",
    "|  **%y**       | Year without century as a zero-padded decimal number.  |\n",
    "|  **%Y**       | Year with century as a decimal number.                 |\n",
    "|  **%H**       | Hour (24-hour clock) as a zero-padded decimal number.  |\n",
    "\n",
    "---\n",
    "\n",
    "***You can read more about the other directives and datetime library here: https://docs.python.org/3/library/datetime.html***\n",
    "\n",
    "---"
   ]
  },
  {
   "cell_type": "code",
   "execution_count": 12,
   "metadata": {
    "scrolled": false
   },
   "outputs": [],
   "source": [
    "# convert to datetime by specifying the data time format\n",
    "data_2.Datetime = pd.to_datetime(data_2.Datetime, format=\"%d %b %Y \")"
   ]
  },
  {
   "cell_type": "code",
   "execution_count": 13,
   "metadata": {
    "scrolled": false
   },
   "outputs": [
    {
     "data": {
      "text/html": [
       "<div>\n",
       "<style scoped>\n",
       "    .dataframe tbody tr th:only-of-type {\n",
       "        vertical-align: middle;\n",
       "    }\n",
       "\n",
       "    .dataframe tbody tr th {\n",
       "        vertical-align: top;\n",
       "    }\n",
       "\n",
       "    .dataframe thead th {\n",
       "        text-align: right;\n",
       "    }\n",
       "</style>\n",
       "<table border=\"1\" class=\"dataframe\">\n",
       "  <thead>\n",
       "    <tr style=\"text-align: right;\">\n",
       "      <th></th>\n",
       "      <th>ID</th>\n",
       "      <th>Datetime</th>\n",
       "      <th>Count</th>\n",
       "    </tr>\n",
       "  </thead>\n",
       "  <tbody>\n",
       "    <tr>\n",
       "      <th>0</th>\n",
       "      <td>0</td>\n",
       "      <td>2012-08-25</td>\n",
       "      <td>8</td>\n",
       "    </tr>\n",
       "    <tr>\n",
       "      <th>1</th>\n",
       "      <td>1</td>\n",
       "      <td>2012-08-25</td>\n",
       "      <td>2</td>\n",
       "    </tr>\n",
       "    <tr>\n",
       "      <th>2</th>\n",
       "      <td>2</td>\n",
       "      <td>2012-08-25</td>\n",
       "      <td>6</td>\n",
       "    </tr>\n",
       "    <tr>\n",
       "      <th>3</th>\n",
       "      <td>3</td>\n",
       "      <td>2012-08-25</td>\n",
       "      <td>2</td>\n",
       "    </tr>\n",
       "    <tr>\n",
       "      <th>4</th>\n",
       "      <td>4</td>\n",
       "      <td>2012-08-25</td>\n",
       "      <td>2</td>\n",
       "    </tr>\n",
       "  </tbody>\n",
       "</table>\n",
       "</div>"
      ],
      "text/plain": [
       "   ID   Datetime  Count\n",
       "0   0 2012-08-25      8\n",
       "1   1 2012-08-25      2\n",
       "2   2 2012-08-25      6\n",
       "3   3 2012-08-25      2\n",
       "4   4 2012-08-25      2"
      ]
     },
     "execution_count": 13,
     "metadata": {},
     "output_type": "execute_result"
    }
   ],
   "source": [
    "data_2.head()"
   ]
  },
  {
   "cell_type": "markdown",
   "metadata": {},
   "source": [
    "---\n",
    "\n",
    "#### `TIME BASED FEATURES`\n",
    "\n",
    "---\n",
    "\n",
    "\n",
    "---\n",
    "\n",
    "***Create features like `month` and `month_name` from the data.***\n",
    "\n",
    "---"
   ]
  },
  {
   "cell_type": "code",
   "execution_count": 14,
   "metadata": {
    "scrolled": false
   },
   "outputs": [
    {
     "data": {
      "text/html": [
       "<div>\n",
       "<style scoped>\n",
       "    .dataframe tbody tr th:only-of-type {\n",
       "        vertical-align: middle;\n",
       "    }\n",
       "\n",
       "    .dataframe tbody tr th {\n",
       "        vertical-align: top;\n",
       "    }\n",
       "\n",
       "    .dataframe thead th {\n",
       "        text-align: right;\n",
       "    }\n",
       "</style>\n",
       "<table border=\"1\" class=\"dataframe\">\n",
       "  <thead>\n",
       "    <tr style=\"text-align: right;\">\n",
       "      <th></th>\n",
       "      <th>ID</th>\n",
       "      <th>Datetime</th>\n",
       "      <th>Count</th>\n",
       "    </tr>\n",
       "  </thead>\n",
       "  <tbody>\n",
       "    <tr>\n",
       "      <th>0</th>\n",
       "      <td>0</td>\n",
       "      <td>2012-08-25 00:00:00</td>\n",
       "      <td>8</td>\n",
       "    </tr>\n",
       "    <tr>\n",
       "      <th>1</th>\n",
       "      <td>1</td>\n",
       "      <td>2012-08-25 01:00:00</td>\n",
       "      <td>2</td>\n",
       "    </tr>\n",
       "    <tr>\n",
       "      <th>2</th>\n",
       "      <td>2</td>\n",
       "      <td>2012-08-25 02:00:00</td>\n",
       "      <td>6</td>\n",
       "    </tr>\n",
       "    <tr>\n",
       "      <th>3</th>\n",
       "      <td>3</td>\n",
       "      <td>2012-08-25 03:00:00</td>\n",
       "      <td>2</td>\n",
       "    </tr>\n",
       "    <tr>\n",
       "      <th>4</th>\n",
       "      <td>4</td>\n",
       "      <td>2012-08-25 04:00:00</td>\n",
       "      <td>2</td>\n",
       "    </tr>\n",
       "    <tr>\n",
       "      <th>...</th>\n",
       "      <td>...</td>\n",
       "      <td>...</td>\n",
       "      <td>...</td>\n",
       "    </tr>\n",
       "    <tr>\n",
       "      <th>18283</th>\n",
       "      <td>18283</td>\n",
       "      <td>2014-09-25 19:00:00</td>\n",
       "      <td>868</td>\n",
       "    </tr>\n",
       "    <tr>\n",
       "      <th>18284</th>\n",
       "      <td>18284</td>\n",
       "      <td>2014-09-25 20:00:00</td>\n",
       "      <td>732</td>\n",
       "    </tr>\n",
       "    <tr>\n",
       "      <th>18285</th>\n",
       "      <td>18285</td>\n",
       "      <td>2014-09-25 21:00:00</td>\n",
       "      <td>702</td>\n",
       "    </tr>\n",
       "    <tr>\n",
       "      <th>18286</th>\n",
       "      <td>18286</td>\n",
       "      <td>2014-09-25 22:00:00</td>\n",
       "      <td>580</td>\n",
       "    </tr>\n",
       "    <tr>\n",
       "      <th>18287</th>\n",
       "      <td>18287</td>\n",
       "      <td>2014-09-25 23:00:00</td>\n",
       "      <td>534</td>\n",
       "    </tr>\n",
       "  </tbody>\n",
       "</table>\n",
       "<p>18288 rows × 3 columns</p>\n",
       "</div>"
      ],
      "text/plain": [
       "          ID            Datetime  Count\n",
       "0          0 2012-08-25 00:00:00      8\n",
       "1          1 2012-08-25 01:00:00      2\n",
       "2          2 2012-08-25 02:00:00      6\n",
       "3          3 2012-08-25 03:00:00      2\n",
       "4          4 2012-08-25 04:00:00      2\n",
       "...      ...                 ...    ...\n",
       "18283  18283 2014-09-25 19:00:00    868\n",
       "18284  18284 2014-09-25 20:00:00    732\n",
       "18285  18285 2014-09-25 21:00:00    702\n",
       "18286  18286 2014-09-25 22:00:00    580\n",
       "18287  18287 2014-09-25 23:00:00    534\n",
       "\n",
       "[18288 rows x 3 columns]"
      ]
     },
     "execution_count": 14,
     "metadata": {},
     "output_type": "execute_result"
    }
   ],
   "source": [
    "data"
   ]
  },
  {
   "cell_type": "code",
   "execution_count": 116,
   "metadata": {
    "scrolled": false
   },
   "outputs": [],
   "source": [
    "# create month and month_name \n",
    "data['month'] = data.Datetime.dt.month\n",
    "data['month_name'] = data.Datetime.dt.month_name()"
   ]
  },
  {
   "cell_type": "code",
   "execution_count": 15,
   "metadata": {
    "scrolled": false
   },
   "outputs": [
    {
     "data": {
      "text/html": [
       "<div>\n",
       "<style scoped>\n",
       "    .dataframe tbody tr th:only-of-type {\n",
       "        vertical-align: middle;\n",
       "    }\n",
       "\n",
       "    .dataframe tbody tr th {\n",
       "        vertical-align: top;\n",
       "    }\n",
       "\n",
       "    .dataframe thead th {\n",
       "        text-align: right;\n",
       "    }\n",
       "</style>\n",
       "<table border=\"1\" class=\"dataframe\">\n",
       "  <thead>\n",
       "    <tr style=\"text-align: right;\">\n",
       "      <th></th>\n",
       "      <th>ID</th>\n",
       "      <th>Datetime</th>\n",
       "      <th>Count</th>\n",
       "    </tr>\n",
       "  </thead>\n",
       "  <tbody>\n",
       "    <tr>\n",
       "      <th>0</th>\n",
       "      <td>0</td>\n",
       "      <td>2012-08-25 00:00:00</td>\n",
       "      <td>8</td>\n",
       "    </tr>\n",
       "    <tr>\n",
       "      <th>1</th>\n",
       "      <td>1</td>\n",
       "      <td>2012-08-25 01:00:00</td>\n",
       "      <td>2</td>\n",
       "    </tr>\n",
       "    <tr>\n",
       "      <th>2</th>\n",
       "      <td>2</td>\n",
       "      <td>2012-08-25 02:00:00</td>\n",
       "      <td>6</td>\n",
       "    </tr>\n",
       "    <tr>\n",
       "      <th>3</th>\n",
       "      <td>3</td>\n",
       "      <td>2012-08-25 03:00:00</td>\n",
       "      <td>2</td>\n",
       "    </tr>\n",
       "    <tr>\n",
       "      <th>4</th>\n",
       "      <td>4</td>\n",
       "      <td>2012-08-25 04:00:00</td>\n",
       "      <td>2</td>\n",
       "    </tr>\n",
       "    <tr>\n",
       "      <th>...</th>\n",
       "      <td>...</td>\n",
       "      <td>...</td>\n",
       "      <td>...</td>\n",
       "    </tr>\n",
       "    <tr>\n",
       "      <th>18283</th>\n",
       "      <td>18283</td>\n",
       "      <td>2014-09-25 19:00:00</td>\n",
       "      <td>868</td>\n",
       "    </tr>\n",
       "    <tr>\n",
       "      <th>18284</th>\n",
       "      <td>18284</td>\n",
       "      <td>2014-09-25 20:00:00</td>\n",
       "      <td>732</td>\n",
       "    </tr>\n",
       "    <tr>\n",
       "      <th>18285</th>\n",
       "      <td>18285</td>\n",
       "      <td>2014-09-25 21:00:00</td>\n",
       "      <td>702</td>\n",
       "    </tr>\n",
       "    <tr>\n",
       "      <th>18286</th>\n",
       "      <td>18286</td>\n",
       "      <td>2014-09-25 22:00:00</td>\n",
       "      <td>580</td>\n",
       "    </tr>\n",
       "    <tr>\n",
       "      <th>18287</th>\n",
       "      <td>18287</td>\n",
       "      <td>2014-09-25 23:00:00</td>\n",
       "      <td>534</td>\n",
       "    </tr>\n",
       "  </tbody>\n",
       "</table>\n",
       "<p>18288 rows × 3 columns</p>\n",
       "</div>"
      ],
      "text/plain": [
       "          ID            Datetime  Count\n",
       "0          0 2012-08-25 00:00:00      8\n",
       "1          1 2012-08-25 01:00:00      2\n",
       "2          2 2012-08-25 02:00:00      6\n",
       "3          3 2012-08-25 03:00:00      2\n",
       "4          4 2012-08-25 04:00:00      2\n",
       "...      ...                 ...    ...\n",
       "18283  18283 2014-09-25 19:00:00    868\n",
       "18284  18284 2014-09-25 20:00:00    732\n",
       "18285  18285 2014-09-25 21:00:00    702\n",
       "18286  18286 2014-09-25 22:00:00    580\n",
       "18287  18287 2014-09-25 23:00:00    534\n",
       "\n",
       "[18288 rows x 3 columns]"
      ]
     },
     "execution_count": 15,
     "metadata": {},
     "output_type": "execute_result"
    }
   ],
   "source": [
    "# view the data\n",
    "data"
   ]
  },
  {
   "cell_type": "markdown",
   "metadata": {},
   "source": [
    "---\n",
    "\n",
    "***Create `day_name`, `day_of_week`, & `day_of_year`***\n",
    "\n",
    "---"
   ]
  },
  {
   "cell_type": "code",
   "execution_count": 16,
   "metadata": {
    "scrolled": false
   },
   "outputs": [],
   "source": [
    "# create features\n",
    "data['day_name'] = data.Datetime.dt.day_name()\n",
    "data['day_of_week'] = data.Datetime.dt.dayofweek\n",
    "data['day_of_year'] = data.Datetime.dt.dayofyear"
   ]
  },
  {
   "cell_type": "code",
   "execution_count": 17,
   "metadata": {
    "scrolled": false
   },
   "outputs": [
    {
     "data": {
      "text/html": [
       "<div>\n",
       "<style scoped>\n",
       "    .dataframe tbody tr th:only-of-type {\n",
       "        vertical-align: middle;\n",
       "    }\n",
       "\n",
       "    .dataframe tbody tr th {\n",
       "        vertical-align: top;\n",
       "    }\n",
       "\n",
       "    .dataframe thead th {\n",
       "        text-align: right;\n",
       "    }\n",
       "</style>\n",
       "<table border=\"1\" class=\"dataframe\">\n",
       "  <thead>\n",
       "    <tr style=\"text-align: right;\">\n",
       "      <th></th>\n",
       "      <th>ID</th>\n",
       "      <th>Datetime</th>\n",
       "      <th>Count</th>\n",
       "      <th>day_name</th>\n",
       "      <th>day_of_week</th>\n",
       "      <th>day_of_year</th>\n",
       "    </tr>\n",
       "  </thead>\n",
       "  <tbody>\n",
       "    <tr>\n",
       "      <th>0</th>\n",
       "      <td>0</td>\n",
       "      <td>2012-08-25 00:00:00</td>\n",
       "      <td>8</td>\n",
       "      <td>Saturday</td>\n",
       "      <td>5</td>\n",
       "      <td>238</td>\n",
       "    </tr>\n",
       "    <tr>\n",
       "      <th>1</th>\n",
       "      <td>1</td>\n",
       "      <td>2012-08-25 01:00:00</td>\n",
       "      <td>2</td>\n",
       "      <td>Saturday</td>\n",
       "      <td>5</td>\n",
       "      <td>238</td>\n",
       "    </tr>\n",
       "    <tr>\n",
       "      <th>2</th>\n",
       "      <td>2</td>\n",
       "      <td>2012-08-25 02:00:00</td>\n",
       "      <td>6</td>\n",
       "      <td>Saturday</td>\n",
       "      <td>5</td>\n",
       "      <td>238</td>\n",
       "    </tr>\n",
       "    <tr>\n",
       "      <th>3</th>\n",
       "      <td>3</td>\n",
       "      <td>2012-08-25 03:00:00</td>\n",
       "      <td>2</td>\n",
       "      <td>Saturday</td>\n",
       "      <td>5</td>\n",
       "      <td>238</td>\n",
       "    </tr>\n",
       "    <tr>\n",
       "      <th>4</th>\n",
       "      <td>4</td>\n",
       "      <td>2012-08-25 04:00:00</td>\n",
       "      <td>2</td>\n",
       "      <td>Saturday</td>\n",
       "      <td>5</td>\n",
       "      <td>238</td>\n",
       "    </tr>\n",
       "  </tbody>\n",
       "</table>\n",
       "</div>"
      ],
      "text/plain": [
       "   ID            Datetime  Count  day_name  day_of_week  day_of_year\n",
       "0   0 2012-08-25 00:00:00      8  Saturday            5          238\n",
       "1   1 2012-08-25 01:00:00      2  Saturday            5          238\n",
       "2   2 2012-08-25 02:00:00      6  Saturday            5          238\n",
       "3   3 2012-08-25 03:00:00      2  Saturday            5          238\n",
       "4   4 2012-08-25 04:00:00      2  Saturday            5          238"
      ]
     },
     "execution_count": 17,
     "metadata": {},
     "output_type": "execute_result"
    }
   ],
   "source": [
    "# view the data\n",
    "data.head()"
   ]
  },
  {
   "cell_type": "markdown",
   "metadata": {},
   "source": [
    "\n",
    "\n",
    "---\n",
    "\n",
    "#### `DIFFERENCE BETWEEN 2 DATES`\n",
    "\n",
    "---\n",
    "\n",
    "\n",
    "***Add the current date in the new column***\n",
    "\n",
    "---"
   ]
  },
  {
   "cell_type": "code",
   "execution_count": 18,
   "metadata": {},
   "outputs": [
    {
     "data": {
      "text/html": [
       "<div>\n",
       "<style scoped>\n",
       "    .dataframe tbody tr th:only-of-type {\n",
       "        vertical-align: middle;\n",
       "    }\n",
       "\n",
       "    .dataframe tbody tr th {\n",
       "        vertical-align: top;\n",
       "    }\n",
       "\n",
       "    .dataframe thead th {\n",
       "        text-align: right;\n",
       "    }\n",
       "</style>\n",
       "<table border=\"1\" class=\"dataframe\">\n",
       "  <thead>\n",
       "    <tr style=\"text-align: right;\">\n",
       "      <th></th>\n",
       "      <th>ID</th>\n",
       "      <th>Datetime</th>\n",
       "      <th>Count</th>\n",
       "      <th>day_name</th>\n",
       "      <th>day_of_week</th>\n",
       "      <th>day_of_year</th>\n",
       "    </tr>\n",
       "  </thead>\n",
       "  <tbody>\n",
       "    <tr>\n",
       "      <th>0</th>\n",
       "      <td>0</td>\n",
       "      <td>2012-08-25 00:00:00</td>\n",
       "      <td>8</td>\n",
       "      <td>Saturday</td>\n",
       "      <td>5</td>\n",
       "      <td>238</td>\n",
       "    </tr>\n",
       "    <tr>\n",
       "      <th>1</th>\n",
       "      <td>1</td>\n",
       "      <td>2012-08-25 01:00:00</td>\n",
       "      <td>2</td>\n",
       "      <td>Saturday</td>\n",
       "      <td>5</td>\n",
       "      <td>238</td>\n",
       "    </tr>\n",
       "    <tr>\n",
       "      <th>2</th>\n",
       "      <td>2</td>\n",
       "      <td>2012-08-25 02:00:00</td>\n",
       "      <td>6</td>\n",
       "      <td>Saturday</td>\n",
       "      <td>5</td>\n",
       "      <td>238</td>\n",
       "    </tr>\n",
       "    <tr>\n",
       "      <th>3</th>\n",
       "      <td>3</td>\n",
       "      <td>2012-08-25 03:00:00</td>\n",
       "      <td>2</td>\n",
       "      <td>Saturday</td>\n",
       "      <td>5</td>\n",
       "      <td>238</td>\n",
       "    </tr>\n",
       "    <tr>\n",
       "      <th>4</th>\n",
       "      <td>4</td>\n",
       "      <td>2012-08-25 04:00:00</td>\n",
       "      <td>2</td>\n",
       "      <td>Saturday</td>\n",
       "      <td>5</td>\n",
       "      <td>238</td>\n",
       "    </tr>\n",
       "  </tbody>\n",
       "</table>\n",
       "</div>"
      ],
      "text/plain": [
       "   ID            Datetime  Count  day_name  day_of_week  day_of_year\n",
       "0   0 2012-08-25 00:00:00      8  Saturday            5          238\n",
       "1   1 2012-08-25 01:00:00      2  Saturday            5          238\n",
       "2   2 2012-08-25 02:00:00      6  Saturday            5          238\n",
       "3   3 2012-08-25 03:00:00      2  Saturday            5          238\n",
       "4   4 2012-08-25 04:00:00      2  Saturday            5          238"
      ]
     },
     "execution_count": 18,
     "metadata": {},
     "output_type": "execute_result"
    }
   ],
   "source": [
    "data.head()"
   ]
  },
  {
   "cell_type": "code",
   "execution_count": 19,
   "metadata": {
    "scrolled": false
   },
   "outputs": [],
   "source": [
    "data['today'] = pd.to_datetime(datetime.date.today())"
   ]
  },
  {
   "cell_type": "code",
   "execution_count": 20,
   "metadata": {
    "scrolled": false
   },
   "outputs": [
    {
     "data": {
      "text/html": [
       "<div>\n",
       "<style scoped>\n",
       "    .dataframe tbody tr th:only-of-type {\n",
       "        vertical-align: middle;\n",
       "    }\n",
       "\n",
       "    .dataframe tbody tr th {\n",
       "        vertical-align: top;\n",
       "    }\n",
       "\n",
       "    .dataframe thead th {\n",
       "        text-align: right;\n",
       "    }\n",
       "</style>\n",
       "<table border=\"1\" class=\"dataframe\">\n",
       "  <thead>\n",
       "    <tr style=\"text-align: right;\">\n",
       "      <th></th>\n",
       "      <th>ID</th>\n",
       "      <th>Datetime</th>\n",
       "      <th>Count</th>\n",
       "      <th>day_name</th>\n",
       "      <th>day_of_week</th>\n",
       "      <th>day_of_year</th>\n",
       "      <th>today</th>\n",
       "    </tr>\n",
       "  </thead>\n",
       "  <tbody>\n",
       "    <tr>\n",
       "      <th>0</th>\n",
       "      <td>0</td>\n",
       "      <td>2012-08-25 00:00:00</td>\n",
       "      <td>8</td>\n",
       "      <td>Saturday</td>\n",
       "      <td>5</td>\n",
       "      <td>238</td>\n",
       "      <td>2023-01-15</td>\n",
       "    </tr>\n",
       "    <tr>\n",
       "      <th>1</th>\n",
       "      <td>1</td>\n",
       "      <td>2012-08-25 01:00:00</td>\n",
       "      <td>2</td>\n",
       "      <td>Saturday</td>\n",
       "      <td>5</td>\n",
       "      <td>238</td>\n",
       "      <td>2023-01-15</td>\n",
       "    </tr>\n",
       "    <tr>\n",
       "      <th>2</th>\n",
       "      <td>2</td>\n",
       "      <td>2012-08-25 02:00:00</td>\n",
       "      <td>6</td>\n",
       "      <td>Saturday</td>\n",
       "      <td>5</td>\n",
       "      <td>238</td>\n",
       "      <td>2023-01-15</td>\n",
       "    </tr>\n",
       "    <tr>\n",
       "      <th>3</th>\n",
       "      <td>3</td>\n",
       "      <td>2012-08-25 03:00:00</td>\n",
       "      <td>2</td>\n",
       "      <td>Saturday</td>\n",
       "      <td>5</td>\n",
       "      <td>238</td>\n",
       "      <td>2023-01-15</td>\n",
       "    </tr>\n",
       "    <tr>\n",
       "      <th>4</th>\n",
       "      <td>4</td>\n",
       "      <td>2012-08-25 04:00:00</td>\n",
       "      <td>2</td>\n",
       "      <td>Saturday</td>\n",
       "      <td>5</td>\n",
       "      <td>238</td>\n",
       "      <td>2023-01-15</td>\n",
       "    </tr>\n",
       "  </tbody>\n",
       "</table>\n",
       "</div>"
      ],
      "text/plain": [
       "   ID            Datetime  Count  day_name  day_of_week  day_of_year  \\\n",
       "0   0 2012-08-25 00:00:00      8  Saturday            5          238   \n",
       "1   1 2012-08-25 01:00:00      2  Saturday            5          238   \n",
       "2   2 2012-08-25 02:00:00      6  Saturday            5          238   \n",
       "3   3 2012-08-25 03:00:00      2  Saturday            5          238   \n",
       "4   4 2012-08-25 04:00:00      2  Saturday            5          238   \n",
       "\n",
       "       today  \n",
       "0 2023-01-15  \n",
       "1 2023-01-15  \n",
       "2 2023-01-15  \n",
       "3 2023-01-15  \n",
       "4 2023-01-15  "
      ]
     },
     "execution_count": 20,
     "metadata": {},
     "output_type": "execute_result"
    }
   ],
   "source": [
    "data.head()"
   ]
  },
  {
   "cell_type": "code",
   "execution_count": 21,
   "metadata": {
    "scrolled": false
   },
   "outputs": [],
   "source": [
    "difference_of_dates = data['today'] - data['Datetime']"
   ]
  },
  {
   "cell_type": "code",
   "execution_count": 22,
   "metadata": {
    "scrolled": false
   },
   "outputs": [
    {
     "data": {
      "text/plain": [
       "0       3795 days 00:00:00\n",
       "1       3794 days 23:00:00\n",
       "2       3794 days 22:00:00\n",
       "3       3794 days 21:00:00\n",
       "4       3794 days 20:00:00\n",
       "               ...        \n",
       "18283   3033 days 05:00:00\n",
       "18284   3033 days 04:00:00\n",
       "18285   3033 days 03:00:00\n",
       "18286   3033 days 02:00:00\n",
       "18287   3033 days 01:00:00\n",
       "Length: 18288, dtype: timedelta64[ns]"
      ]
     },
     "execution_count": 22,
     "metadata": {},
     "output_type": "execute_result"
    }
   ],
   "source": [
    "difference_of_dates"
   ]
  },
  {
   "cell_type": "code",
   "execution_count": 126,
   "metadata": {
    "scrolled": true
   },
   "outputs": [
    {
     "data": {
      "text/plain": [
       "0        2762\n",
       "1        2761\n",
       "2        2761\n",
       "3        2761\n",
       "4        2761\n",
       "         ... \n",
       "18283    2000\n",
       "18284    2000\n",
       "18285    2000\n",
       "18286    2000\n",
       "18287    2000\n",
       "Length: 18288, dtype: int64"
      ]
     },
     "execution_count": 126,
     "metadata": {},
     "output_type": "execute_result"
    }
   ],
   "source": [
    "difference_of_dates.apply(lambda x: x.days)"
   ]
  },
  {
   "cell_type": "code",
   "execution_count": 23,
   "metadata": {
    "scrolled": false
   },
   "outputs": [],
   "source": [
    "data['day_difference'] = difference_of_dates.apply(lambda x: x.days)"
   ]
  },
  {
   "cell_type": "code",
   "execution_count": 24,
   "metadata": {
    "scrolled": false
   },
   "outputs": [
    {
     "data": {
      "text/html": [
       "<div>\n",
       "<style scoped>\n",
       "    .dataframe tbody tr th:only-of-type {\n",
       "        vertical-align: middle;\n",
       "    }\n",
       "\n",
       "    .dataframe tbody tr th {\n",
       "        vertical-align: top;\n",
       "    }\n",
       "\n",
       "    .dataframe thead th {\n",
       "        text-align: right;\n",
       "    }\n",
       "</style>\n",
       "<table border=\"1\" class=\"dataframe\">\n",
       "  <thead>\n",
       "    <tr style=\"text-align: right;\">\n",
       "      <th></th>\n",
       "      <th>ID</th>\n",
       "      <th>Datetime</th>\n",
       "      <th>Count</th>\n",
       "      <th>day_name</th>\n",
       "      <th>day_of_week</th>\n",
       "      <th>day_of_year</th>\n",
       "      <th>today</th>\n",
       "      <th>day_difference</th>\n",
       "    </tr>\n",
       "  </thead>\n",
       "  <tbody>\n",
       "    <tr>\n",
       "      <th>0</th>\n",
       "      <td>0</td>\n",
       "      <td>2012-08-25 00:00:00</td>\n",
       "      <td>8</td>\n",
       "      <td>Saturday</td>\n",
       "      <td>5</td>\n",
       "      <td>238</td>\n",
       "      <td>2023-01-15</td>\n",
       "      <td>3795</td>\n",
       "    </tr>\n",
       "    <tr>\n",
       "      <th>1</th>\n",
       "      <td>1</td>\n",
       "      <td>2012-08-25 01:00:00</td>\n",
       "      <td>2</td>\n",
       "      <td>Saturday</td>\n",
       "      <td>5</td>\n",
       "      <td>238</td>\n",
       "      <td>2023-01-15</td>\n",
       "      <td>3794</td>\n",
       "    </tr>\n",
       "    <tr>\n",
       "      <th>2</th>\n",
       "      <td>2</td>\n",
       "      <td>2012-08-25 02:00:00</td>\n",
       "      <td>6</td>\n",
       "      <td>Saturday</td>\n",
       "      <td>5</td>\n",
       "      <td>238</td>\n",
       "      <td>2023-01-15</td>\n",
       "      <td>3794</td>\n",
       "    </tr>\n",
       "    <tr>\n",
       "      <th>3</th>\n",
       "      <td>3</td>\n",
       "      <td>2012-08-25 03:00:00</td>\n",
       "      <td>2</td>\n",
       "      <td>Saturday</td>\n",
       "      <td>5</td>\n",
       "      <td>238</td>\n",
       "      <td>2023-01-15</td>\n",
       "      <td>3794</td>\n",
       "    </tr>\n",
       "    <tr>\n",
       "      <th>4</th>\n",
       "      <td>4</td>\n",
       "      <td>2012-08-25 04:00:00</td>\n",
       "      <td>2</td>\n",
       "      <td>Saturday</td>\n",
       "      <td>5</td>\n",
       "      <td>238</td>\n",
       "      <td>2023-01-15</td>\n",
       "      <td>3794</td>\n",
       "    </tr>\n",
       "  </tbody>\n",
       "</table>\n",
       "</div>"
      ],
      "text/plain": [
       "   ID            Datetime  Count  day_name  day_of_week  day_of_year  \\\n",
       "0   0 2012-08-25 00:00:00      8  Saturday            5          238   \n",
       "1   1 2012-08-25 01:00:00      2  Saturday            5          238   \n",
       "2   2 2012-08-25 02:00:00      6  Saturday            5          238   \n",
       "3   3 2012-08-25 03:00:00      2  Saturday            5          238   \n",
       "4   4 2012-08-25 04:00:00      2  Saturday            5          238   \n",
       "\n",
       "       today  day_difference  \n",
       "0 2023-01-15            3795  \n",
       "1 2023-01-15            3794  \n",
       "2 2023-01-15            3794  \n",
       "3 2023-01-15            3794  \n",
       "4 2023-01-15            3794  "
      ]
     },
     "execution_count": 24,
     "metadata": {},
     "output_type": "execute_result"
    }
   ],
   "source": [
    "data.head()"
   ]
  },
  {
   "cell_type": "markdown",
   "metadata": {},
   "source": [
    "---\n",
    "\n",
    "### `CHALLENGES WITH TIME DATA`\n",
    "\n",
    "---\n",
    "\n",
    "#### DEALING WITH TIME ZONES\n",
    " \n",
    "- If you have the dataset of a specific time zone. You can tell pandas about the local time zone and later you can convert it into different time zones.\n",
    "- Use function `dt.tz_localize` to set the local time zone.\n",
    " \n",
    " \n",
    "---"
   ]
  },
  {
   "cell_type": "code",
   "execution_count": 25,
   "metadata": {
    "scrolled": false
   },
   "outputs": [],
   "source": [
    "# set the current time as of Asia\n",
    "data['asia_timezone'] = data.Datetime.dt.tz_localize('Asia/Calcutta')"
   ]
  },
  {
   "cell_type": "code",
   "execution_count": 26,
   "metadata": {
    "scrolled": false
   },
   "outputs": [
    {
     "data": {
      "text/html": [
       "<div>\n",
       "<style scoped>\n",
       "    .dataframe tbody tr th:only-of-type {\n",
       "        vertical-align: middle;\n",
       "    }\n",
       "\n",
       "    .dataframe tbody tr th {\n",
       "        vertical-align: top;\n",
       "    }\n",
       "\n",
       "    .dataframe thead th {\n",
       "        text-align: right;\n",
       "    }\n",
       "</style>\n",
       "<table border=\"1\" class=\"dataframe\">\n",
       "  <thead>\n",
       "    <tr style=\"text-align: right;\">\n",
       "      <th></th>\n",
       "      <th>ID</th>\n",
       "      <th>Datetime</th>\n",
       "      <th>Count</th>\n",
       "      <th>day_name</th>\n",
       "      <th>day_of_week</th>\n",
       "      <th>day_of_year</th>\n",
       "      <th>today</th>\n",
       "      <th>day_difference</th>\n",
       "      <th>asia_timezone</th>\n",
       "    </tr>\n",
       "  </thead>\n",
       "  <tbody>\n",
       "    <tr>\n",
       "      <th>0</th>\n",
       "      <td>0</td>\n",
       "      <td>2012-08-25 00:00:00</td>\n",
       "      <td>8</td>\n",
       "      <td>Saturday</td>\n",
       "      <td>5</td>\n",
       "      <td>238</td>\n",
       "      <td>2023-01-15</td>\n",
       "      <td>3795</td>\n",
       "      <td>2012-08-25 00:00:00+05:30</td>\n",
       "    </tr>\n",
       "    <tr>\n",
       "      <th>1</th>\n",
       "      <td>1</td>\n",
       "      <td>2012-08-25 01:00:00</td>\n",
       "      <td>2</td>\n",
       "      <td>Saturday</td>\n",
       "      <td>5</td>\n",
       "      <td>238</td>\n",
       "      <td>2023-01-15</td>\n",
       "      <td>3794</td>\n",
       "      <td>2012-08-25 01:00:00+05:30</td>\n",
       "    </tr>\n",
       "    <tr>\n",
       "      <th>2</th>\n",
       "      <td>2</td>\n",
       "      <td>2012-08-25 02:00:00</td>\n",
       "      <td>6</td>\n",
       "      <td>Saturday</td>\n",
       "      <td>5</td>\n",
       "      <td>238</td>\n",
       "      <td>2023-01-15</td>\n",
       "      <td>3794</td>\n",
       "      <td>2012-08-25 02:00:00+05:30</td>\n",
       "    </tr>\n",
       "    <tr>\n",
       "      <th>3</th>\n",
       "      <td>3</td>\n",
       "      <td>2012-08-25 03:00:00</td>\n",
       "      <td>2</td>\n",
       "      <td>Saturday</td>\n",
       "      <td>5</td>\n",
       "      <td>238</td>\n",
       "      <td>2023-01-15</td>\n",
       "      <td>3794</td>\n",
       "      <td>2012-08-25 03:00:00+05:30</td>\n",
       "    </tr>\n",
       "    <tr>\n",
       "      <th>4</th>\n",
       "      <td>4</td>\n",
       "      <td>2012-08-25 04:00:00</td>\n",
       "      <td>2</td>\n",
       "      <td>Saturday</td>\n",
       "      <td>5</td>\n",
       "      <td>238</td>\n",
       "      <td>2023-01-15</td>\n",
       "      <td>3794</td>\n",
       "      <td>2012-08-25 04:00:00+05:30</td>\n",
       "    </tr>\n",
       "  </tbody>\n",
       "</table>\n",
       "</div>"
      ],
      "text/plain": [
       "   ID            Datetime  Count  day_name  day_of_week  day_of_year  \\\n",
       "0   0 2012-08-25 00:00:00      8  Saturday            5          238   \n",
       "1   1 2012-08-25 01:00:00      2  Saturday            5          238   \n",
       "2   2 2012-08-25 02:00:00      6  Saturday            5          238   \n",
       "3   3 2012-08-25 03:00:00      2  Saturday            5          238   \n",
       "4   4 2012-08-25 04:00:00      2  Saturday            5          238   \n",
       "\n",
       "       today  day_difference             asia_timezone  \n",
       "0 2023-01-15            3795 2012-08-25 00:00:00+05:30  \n",
       "1 2023-01-15            3794 2012-08-25 01:00:00+05:30  \n",
       "2 2023-01-15            3794 2012-08-25 02:00:00+05:30  \n",
       "3 2023-01-15            3794 2012-08-25 03:00:00+05:30  \n",
       "4 2023-01-15            3794 2012-08-25 04:00:00+05:30  "
      ]
     },
     "execution_count": 26,
     "metadata": {},
     "output_type": "execute_result"
    }
   ],
   "source": [
    "# view the data\n",
    "data.head()"
   ]
  },
  {
   "cell_type": "markdown",
   "metadata": {},
   "source": [
    "---\n",
    "\n",
    "- Use the column asia_timezone and convert it into the UTC timezone. \n",
    "- Use the function `tz_convert` to convert the timezone.\n",
    "\n",
    "---"
   ]
  },
  {
   "cell_type": "code",
   "execution_count": 27,
   "metadata": {
    "scrolled": false
   },
   "outputs": [],
   "source": [
    "# change the asia time zone to UTC\n",
    "data['utc_timezone'] = data.asia_timezone.dt.tz_convert('UTC')"
   ]
  },
  {
   "cell_type": "code",
   "execution_count": 28,
   "metadata": {},
   "outputs": [
    {
     "data": {
      "text/html": [
       "<div>\n",
       "<style scoped>\n",
       "    .dataframe tbody tr th:only-of-type {\n",
       "        vertical-align: middle;\n",
       "    }\n",
       "\n",
       "    .dataframe tbody tr th {\n",
       "        vertical-align: top;\n",
       "    }\n",
       "\n",
       "    .dataframe thead th {\n",
       "        text-align: right;\n",
       "    }\n",
       "</style>\n",
       "<table border=\"1\" class=\"dataframe\">\n",
       "  <thead>\n",
       "    <tr style=\"text-align: right;\">\n",
       "      <th></th>\n",
       "      <th>ID</th>\n",
       "      <th>Datetime</th>\n",
       "      <th>Count</th>\n",
       "      <th>day_name</th>\n",
       "      <th>day_of_week</th>\n",
       "      <th>day_of_year</th>\n",
       "      <th>today</th>\n",
       "      <th>day_difference</th>\n",
       "      <th>asia_timezone</th>\n",
       "      <th>utc_timezone</th>\n",
       "    </tr>\n",
       "  </thead>\n",
       "  <tbody>\n",
       "    <tr>\n",
       "      <th>0</th>\n",
       "      <td>0</td>\n",
       "      <td>2012-08-25 00:00:00</td>\n",
       "      <td>8</td>\n",
       "      <td>Saturday</td>\n",
       "      <td>5</td>\n",
       "      <td>238</td>\n",
       "      <td>2023-01-15</td>\n",
       "      <td>3795</td>\n",
       "      <td>2012-08-25 00:00:00+05:30</td>\n",
       "      <td>2012-08-24 18:30:00+00:00</td>\n",
       "    </tr>\n",
       "    <tr>\n",
       "      <th>1</th>\n",
       "      <td>1</td>\n",
       "      <td>2012-08-25 01:00:00</td>\n",
       "      <td>2</td>\n",
       "      <td>Saturday</td>\n",
       "      <td>5</td>\n",
       "      <td>238</td>\n",
       "      <td>2023-01-15</td>\n",
       "      <td>3794</td>\n",
       "      <td>2012-08-25 01:00:00+05:30</td>\n",
       "      <td>2012-08-24 19:30:00+00:00</td>\n",
       "    </tr>\n",
       "    <tr>\n",
       "      <th>2</th>\n",
       "      <td>2</td>\n",
       "      <td>2012-08-25 02:00:00</td>\n",
       "      <td>6</td>\n",
       "      <td>Saturday</td>\n",
       "      <td>5</td>\n",
       "      <td>238</td>\n",
       "      <td>2023-01-15</td>\n",
       "      <td>3794</td>\n",
       "      <td>2012-08-25 02:00:00+05:30</td>\n",
       "      <td>2012-08-24 20:30:00+00:00</td>\n",
       "    </tr>\n",
       "    <tr>\n",
       "      <th>3</th>\n",
       "      <td>3</td>\n",
       "      <td>2012-08-25 03:00:00</td>\n",
       "      <td>2</td>\n",
       "      <td>Saturday</td>\n",
       "      <td>5</td>\n",
       "      <td>238</td>\n",
       "      <td>2023-01-15</td>\n",
       "      <td>3794</td>\n",
       "      <td>2012-08-25 03:00:00+05:30</td>\n",
       "      <td>2012-08-24 21:30:00+00:00</td>\n",
       "    </tr>\n",
       "    <tr>\n",
       "      <th>4</th>\n",
       "      <td>4</td>\n",
       "      <td>2012-08-25 04:00:00</td>\n",
       "      <td>2</td>\n",
       "      <td>Saturday</td>\n",
       "      <td>5</td>\n",
       "      <td>238</td>\n",
       "      <td>2023-01-15</td>\n",
       "      <td>3794</td>\n",
       "      <td>2012-08-25 04:00:00+05:30</td>\n",
       "      <td>2012-08-24 22:30:00+00:00</td>\n",
       "    </tr>\n",
       "  </tbody>\n",
       "</table>\n",
       "</div>"
      ],
      "text/plain": [
       "   ID            Datetime  Count  day_name  day_of_week  day_of_year  \\\n",
       "0   0 2012-08-25 00:00:00      8  Saturday            5          238   \n",
       "1   1 2012-08-25 01:00:00      2  Saturday            5          238   \n",
       "2   2 2012-08-25 02:00:00      6  Saturday            5          238   \n",
       "3   3 2012-08-25 03:00:00      2  Saturday            5          238   \n",
       "4   4 2012-08-25 04:00:00      2  Saturday            5          238   \n",
       "\n",
       "       today  day_difference             asia_timezone  \\\n",
       "0 2023-01-15            3795 2012-08-25 00:00:00+05:30   \n",
       "1 2023-01-15            3794 2012-08-25 01:00:00+05:30   \n",
       "2 2023-01-15            3794 2012-08-25 02:00:00+05:30   \n",
       "3 2023-01-15            3794 2012-08-25 03:00:00+05:30   \n",
       "4 2023-01-15            3794 2012-08-25 04:00:00+05:30   \n",
       "\n",
       "               utc_timezone  \n",
       "0 2012-08-24 18:30:00+00:00  \n",
       "1 2012-08-24 19:30:00+00:00  \n",
       "2 2012-08-24 20:30:00+00:00  \n",
       "3 2012-08-24 21:30:00+00:00  \n",
       "4 2012-08-24 22:30:00+00:00  "
      ]
     },
     "execution_count": 28,
     "metadata": {},
     "output_type": "execute_result"
    }
   ],
   "source": [
    "data.head()"
   ]
  },
  {
   "cell_type": "code",
   "execution_count": 29,
   "metadata": {
    "scrolled": false
   },
   "outputs": [
    {
     "data": {
      "text/html": [
       "<div>\n",
       "<style scoped>\n",
       "    .dataframe tbody tr th:only-of-type {\n",
       "        vertical-align: middle;\n",
       "    }\n",
       "\n",
       "    .dataframe tbody tr th {\n",
       "        vertical-align: top;\n",
       "    }\n",
       "\n",
       "    .dataframe thead th {\n",
       "        text-align: right;\n",
       "    }\n",
       "</style>\n",
       "<table border=\"1\" class=\"dataframe\">\n",
       "  <thead>\n",
       "    <tr style=\"text-align: right;\">\n",
       "      <th></th>\n",
       "      <th>asia_timezone</th>\n",
       "      <th>utc_timezone</th>\n",
       "    </tr>\n",
       "  </thead>\n",
       "  <tbody>\n",
       "    <tr>\n",
       "      <th>0</th>\n",
       "      <td>2012-08-25 00:00:00+05:30</td>\n",
       "      <td>2012-08-24 18:30:00+00:00</td>\n",
       "    </tr>\n",
       "    <tr>\n",
       "      <th>1</th>\n",
       "      <td>2012-08-25 01:00:00+05:30</td>\n",
       "      <td>2012-08-24 19:30:00+00:00</td>\n",
       "    </tr>\n",
       "    <tr>\n",
       "      <th>2</th>\n",
       "      <td>2012-08-25 02:00:00+05:30</td>\n",
       "      <td>2012-08-24 20:30:00+00:00</td>\n",
       "    </tr>\n",
       "    <tr>\n",
       "      <th>3</th>\n",
       "      <td>2012-08-25 03:00:00+05:30</td>\n",
       "      <td>2012-08-24 21:30:00+00:00</td>\n",
       "    </tr>\n",
       "    <tr>\n",
       "      <th>4</th>\n",
       "      <td>2012-08-25 04:00:00+05:30</td>\n",
       "      <td>2012-08-24 22:30:00+00:00</td>\n",
       "    </tr>\n",
       "    <tr>\n",
       "      <th>...</th>\n",
       "      <td>...</td>\n",
       "      <td>...</td>\n",
       "    </tr>\n",
       "    <tr>\n",
       "      <th>18283</th>\n",
       "      <td>2014-09-25 19:00:00+05:30</td>\n",
       "      <td>2014-09-25 13:30:00+00:00</td>\n",
       "    </tr>\n",
       "    <tr>\n",
       "      <th>18284</th>\n",
       "      <td>2014-09-25 20:00:00+05:30</td>\n",
       "      <td>2014-09-25 14:30:00+00:00</td>\n",
       "    </tr>\n",
       "    <tr>\n",
       "      <th>18285</th>\n",
       "      <td>2014-09-25 21:00:00+05:30</td>\n",
       "      <td>2014-09-25 15:30:00+00:00</td>\n",
       "    </tr>\n",
       "    <tr>\n",
       "      <th>18286</th>\n",
       "      <td>2014-09-25 22:00:00+05:30</td>\n",
       "      <td>2014-09-25 16:30:00+00:00</td>\n",
       "    </tr>\n",
       "    <tr>\n",
       "      <th>18287</th>\n",
       "      <td>2014-09-25 23:00:00+05:30</td>\n",
       "      <td>2014-09-25 17:30:00+00:00</td>\n",
       "    </tr>\n",
       "  </tbody>\n",
       "</table>\n",
       "<p>18288 rows × 2 columns</p>\n",
       "</div>"
      ],
      "text/plain": [
       "                  asia_timezone              utc_timezone\n",
       "0     2012-08-25 00:00:00+05:30 2012-08-24 18:30:00+00:00\n",
       "1     2012-08-25 01:00:00+05:30 2012-08-24 19:30:00+00:00\n",
       "2     2012-08-25 02:00:00+05:30 2012-08-24 20:30:00+00:00\n",
       "3     2012-08-25 03:00:00+05:30 2012-08-24 21:30:00+00:00\n",
       "4     2012-08-25 04:00:00+05:30 2012-08-24 22:30:00+00:00\n",
       "...                         ...                       ...\n",
       "18283 2014-09-25 19:00:00+05:30 2014-09-25 13:30:00+00:00\n",
       "18284 2014-09-25 20:00:00+05:30 2014-09-25 14:30:00+00:00\n",
       "18285 2014-09-25 21:00:00+05:30 2014-09-25 15:30:00+00:00\n",
       "18286 2014-09-25 22:00:00+05:30 2014-09-25 16:30:00+00:00\n",
       "18287 2014-09-25 23:00:00+05:30 2014-09-25 17:30:00+00:00\n",
       "\n",
       "[18288 rows x 2 columns]"
      ]
     },
     "execution_count": 29,
     "metadata": {},
     "output_type": "execute_result"
    }
   ],
   "source": [
    "data[['asia_timezone', 'utc_timezone']]"
   ]
  },
  {
   "cell_type": "markdown",
   "metadata": {},
   "source": [
    "---\n",
    "\n",
    "***Select a random date***\n",
    "\n",
    "---"
   ]
  },
  {
   "cell_type": "code",
   "execution_count": 30,
   "metadata": {
    "scrolled": false
   },
   "outputs": [
    {
     "data": {
      "text/plain": [
       "Timestamp('2014-09-25 23:00:00+0530', tz='Asia/Calcutta')"
      ]
     },
     "execution_count": 30,
     "metadata": {},
     "output_type": "execute_result"
    }
   ],
   "source": [
    "data['asia_timezone'][18287]"
   ]
  },
  {
   "cell_type": "code",
   "execution_count": 31,
   "metadata": {
    "scrolled": false
   },
   "outputs": [
    {
     "data": {
      "text/plain": [
       "Timestamp('2014-09-25 17:30:00+0000', tz='UTC')"
      ]
     },
     "execution_count": 31,
     "metadata": {},
     "output_type": "execute_result"
    }
   ],
   "source": [
    "data['utc_timezone'][18287]"
   ]
  },
  {
   "cell_type": "markdown",
   "metadata": {},
   "source": [
    "***You can see that time difference is 5 hours 30 minutes.***\n",
    "\n",
    "---"
   ]
  },
  {
   "cell_type": "markdown",
   "metadata": {},
   "source": [
    "---\n",
    "\n",
    "#### `READING DATA WITH UNIX TIMESTAMP.`\n",
    "\n",
    "- A UNIX timestamp is a way of storing a specific date and time. The timestamp is a ten digit number which represents the number of seconds that have passed since midnight on the 1st January 1970, UTC time.\n",
    "\n",
    "---"
   ]
  },
  {
   "cell_type": "code",
   "execution_count": 32,
   "metadata": {
    "scrolled": false
   },
   "outputs": [],
   "source": [
    "# read data\n",
    "data_with_unix_ts = pd.read_csv('Time series data/data_with_timestamp.csv')"
   ]
  },
  {
   "cell_type": "code",
   "execution_count": 33,
   "metadata": {
    "scrolled": false
   },
   "outputs": [
    {
     "data": {
      "text/html": [
       "<div>\n",
       "<style scoped>\n",
       "    .dataframe tbody tr th:only-of-type {\n",
       "        vertical-align: middle;\n",
       "    }\n",
       "\n",
       "    .dataframe tbody tr th {\n",
       "        vertical-align: top;\n",
       "    }\n",
       "\n",
       "    .dataframe thead th {\n",
       "        text-align: right;\n",
       "    }\n",
       "</style>\n",
       "<table border=\"1\" class=\"dataframe\">\n",
       "  <thead>\n",
       "    <tr style=\"text-align: right;\">\n",
       "      <th></th>\n",
       "      <th>ID</th>\n",
       "      <th>timestamp</th>\n",
       "      <th>Count</th>\n",
       "    </tr>\n",
       "  </thead>\n",
       "  <tbody>\n",
       "    <tr>\n",
       "      <th>0</th>\n",
       "      <td>0</td>\n",
       "      <td>1345852800</td>\n",
       "      <td>8</td>\n",
       "    </tr>\n",
       "    <tr>\n",
       "      <th>1</th>\n",
       "      <td>1</td>\n",
       "      <td>1345856400</td>\n",
       "      <td>2</td>\n",
       "    </tr>\n",
       "    <tr>\n",
       "      <th>2</th>\n",
       "      <td>2</td>\n",
       "      <td>1345860000</td>\n",
       "      <td>6</td>\n",
       "    </tr>\n",
       "    <tr>\n",
       "      <th>3</th>\n",
       "      <td>3</td>\n",
       "      <td>1345863600</td>\n",
       "      <td>2</td>\n",
       "    </tr>\n",
       "    <tr>\n",
       "      <th>4</th>\n",
       "      <td>4</td>\n",
       "      <td>1345867200</td>\n",
       "      <td>2</td>\n",
       "    </tr>\n",
       "  </tbody>\n",
       "</table>\n",
       "</div>"
      ],
      "text/plain": [
       "   ID   timestamp  Count\n",
       "0   0  1345852800      8\n",
       "1   1  1345856400      2\n",
       "2   2  1345860000      6\n",
       "3   3  1345863600      2\n",
       "4   4  1345867200      2"
      ]
     },
     "execution_count": 33,
     "metadata": {},
     "output_type": "execute_result"
    }
   ],
   "source": [
    "# view the data\n",
    "data_with_unix_ts.head()"
   ]
  },
  {
   "cell_type": "code",
   "execution_count": 34,
   "metadata": {
    "scrolled": false
   },
   "outputs": [],
   "source": [
    "# convert the unix timestamp to datetime.\n",
    "data_with_unix_ts.timestamp = pd.to_datetime(data_with_unix_ts.timestamp, unit='s')"
   ]
  },
  {
   "cell_type": "code",
   "execution_count": 35,
   "metadata": {
    "scrolled": false
   },
   "outputs": [
    {
     "data": {
      "text/html": [
       "<div>\n",
       "<style scoped>\n",
       "    .dataframe tbody tr th:only-of-type {\n",
       "        vertical-align: middle;\n",
       "    }\n",
       "\n",
       "    .dataframe tbody tr th {\n",
       "        vertical-align: top;\n",
       "    }\n",
       "\n",
       "    .dataframe thead th {\n",
       "        text-align: right;\n",
       "    }\n",
       "</style>\n",
       "<table border=\"1\" class=\"dataframe\">\n",
       "  <thead>\n",
       "    <tr style=\"text-align: right;\">\n",
       "      <th></th>\n",
       "      <th>ID</th>\n",
       "      <th>timestamp</th>\n",
       "      <th>Count</th>\n",
       "    </tr>\n",
       "  </thead>\n",
       "  <tbody>\n",
       "    <tr>\n",
       "      <th>0</th>\n",
       "      <td>0</td>\n",
       "      <td>2012-08-25 00:00:00</td>\n",
       "      <td>8</td>\n",
       "    </tr>\n",
       "    <tr>\n",
       "      <th>1</th>\n",
       "      <td>1</td>\n",
       "      <td>2012-08-25 01:00:00</td>\n",
       "      <td>2</td>\n",
       "    </tr>\n",
       "    <tr>\n",
       "      <th>2</th>\n",
       "      <td>2</td>\n",
       "      <td>2012-08-25 02:00:00</td>\n",
       "      <td>6</td>\n",
       "    </tr>\n",
       "    <tr>\n",
       "      <th>3</th>\n",
       "      <td>3</td>\n",
       "      <td>2012-08-25 03:00:00</td>\n",
       "      <td>2</td>\n",
       "    </tr>\n",
       "    <tr>\n",
       "      <th>4</th>\n",
       "      <td>4</td>\n",
       "      <td>2012-08-25 04:00:00</td>\n",
       "      <td>2</td>\n",
       "    </tr>\n",
       "  </tbody>\n",
       "</table>\n",
       "</div>"
      ],
      "text/plain": [
       "   ID           timestamp  Count\n",
       "0   0 2012-08-25 00:00:00      8\n",
       "1   1 2012-08-25 01:00:00      2\n",
       "2   2 2012-08-25 02:00:00      6\n",
       "3   3 2012-08-25 03:00:00      2\n",
       "4   4 2012-08-25 04:00:00      2"
      ]
     },
     "execution_count": 35,
     "metadata": {},
     "output_type": "execute_result"
    }
   ],
   "source": [
    "# view the top rows\n",
    "data_with_unix_ts.head()"
   ]
  },
  {
   "cell_type": "code",
   "execution_count": null,
   "metadata": {
    "scrolled": false
   },
   "outputs": [],
   "source": []
  }
 ],
 "metadata": {
  "kernelspec": {
   "display_name": "Python 3 (ipykernel)",
   "language": "python",
   "name": "python3"
  },
  "language_info": {
   "codemirror_mode": {
    "name": "ipython",
    "version": 3
   },
   "file_extension": ".py",
   "mimetype": "text/x-python",
   "name": "python",
   "nbconvert_exporter": "python",
   "pygments_lexer": "ipython3",
   "version": "3.11.1"
  }
 },
 "nbformat": 4,
 "nbformat_minor": 2
}
