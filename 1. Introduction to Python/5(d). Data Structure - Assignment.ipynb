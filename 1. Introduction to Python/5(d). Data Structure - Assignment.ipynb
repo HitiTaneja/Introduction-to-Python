{
 "cells": [
  {
   "cell_type": "code",
   "execution_count": 1,
   "id": "582e0e42",
   "metadata": {},
   "outputs": [],
   "source": [
    "# student marks\n",
    "student_marks = [['Name',  ['A','B','C','D','E']],\n",
    "                 ['Ankit',  [41, 34, 45, 55, 63]],\n",
    "                 ['Aravind',[42, 23, 34, 44, 53]],\n",
    "                 ['Lakshay',[32, 23, 13, 54, 67]],\n",
    "                 ['Gyan',   [23, 82, 23, 63, 34]],\n",
    "                 ['Pranav', [21, 23, 25, 56, 56]]\n",
    "                ]"
   ]
  },
  {
   "cell_type": "markdown",
   "id": "c33dbc74",
   "metadata": {},
   "source": [
    "#### Q - How scored the highest marks in the Subject B?"
   ]
  },
  {
   "cell_type": "code",
   "execution_count": 2,
   "id": "3bd530f6",
   "metadata": {},
   "outputs": [
    {
     "name": "stdout",
     "output_type": "stream",
     "text": [
      "Gyan scored the highest marks in the Subject B.\n"
     ]
    }
   ],
   "source": [
    "newlist = []\n",
    "sorted_list =[]\n",
    "for students in student_marks[1:]:\n",
    "    name = students[0]\n",
    "    marks = students[1][1]\n",
    "    #print(marks, name)\n",
    "    \n",
    "    newlist.append([name, marks])\n",
    "#print(newlist)\n",
    "#print(newlist.sort())\n",
    "sorted_list = sorted(newlist, reverse = True, key = lambda i: i[1])\n",
    "print(sorted_list[0][0] + ' scored the highest marks in the Subject B.')"
   ]
  },
  {
   "cell_type": "markdown",
   "id": "0e7ec07f",
   "metadata": {},
   "source": [
    "#### Q - What is average marks scored in the Subject C?"
   ]
  },
  {
   "cell_type": "code",
   "execution_count": 3,
   "id": "58611d12",
   "metadata": {},
   "outputs": [
    {
     "name": "stdout",
     "output_type": "stream",
     "text": [
      "Average marks scored in the Subject C: 28.0\n"
     ]
    }
   ],
   "source": [
    "i = 1\n",
    "marks = 0\n",
    "while i < len(student_marks):\n",
    "    marks = marks + student_marks[i][1][2]\n",
    "    i = i + 1\n",
    "print('Average marks scored in the Subject C: ' + str(marks/5))"
   ]
  },
  {
   "cell_type": "markdown",
   "id": "0f29071e",
   "metadata": {},
   "source": [
    "#### Q - Who scored the highest percentage of marks?"
   ]
  },
  {
   "cell_type": "code",
   "execution_count": 4,
   "id": "934c1e7b",
   "metadata": {},
   "outputs": [
    {
     "name": "stdout",
     "output_type": "stream",
     "text": [
      "Ankit scored the highest percentage of marks.\n"
     ]
    }
   ],
   "source": [
    "i = 1\n",
    "x = 1\n",
    "newlist = []\n",
    "sorted_list = []\n",
    "while i < len(student_marks):\n",
    "    marks = 0\n",
    "    percentage_marks = 0\n",
    "    for y in range(len(student_marks[i][1])):\n",
    "        marks = marks + student_marks[i][1][y]\n",
    "    percentage_marks = (marks/500) * 100\n",
    "    newlist.append([percentage_marks, student_marks[i][0]])\n",
    "    i = i + 1\n",
    "sorted_list = sorted(newlist, reverse = True)\n",
    "\n",
    "print(sorted_list[0][1] + ' scored the highest percentage of marks.')"
   ]
  },
  {
   "cell_type": "markdown",
   "id": "6b80a8f3",
   "metadata": {},
   "source": [
    "#### Q - If considered only top-4 subjects of a candidate, then who scored the highest percentage of marks?"
   ]
  },
  {
   "cell_type": "code",
   "execution_count": 5,
   "id": "57c8cff0",
   "metadata": {},
   "outputs": [
    {
     "name": "stdout",
     "output_type": "stream",
     "text": [
      "Ankit scored the highest percentage of marks.\n"
     ]
    }
   ],
   "source": [
    "i= 1\n",
    "new_list = []\n",
    "sorted_list = []\n",
    "while i < len(student_marks):\n",
    "    temp_marks = student_marks[i][1]\n",
    "    marks = sorted(temp_marks, reverse = True)\n",
    "    total_marks = sum(marks) - marks[-1]\n",
    "    percentage_marks = (total_marks/400) * 100\n",
    "    new_list.append([percentage_marks, student_marks[i][0]])\n",
    "    i = i + 1\n",
    "sorted_list = sorted(new_list, reverse = True)\n",
    "print(sorted_list[0][1] + ' scored the highest percentage of marks.')"
   ]
  },
  {
   "cell_type": "code",
   "execution_count": null,
   "id": "907b68a0",
   "metadata": {},
   "outputs": [],
   "source": []
  }
 ],
 "metadata": {
  "kernelspec": {
   "display_name": "Python 3 (ipykernel)",
   "language": "python",
   "name": "python3"
  },
  "language_info": {
   "codemirror_mode": {
    "name": "ipython",
    "version": 3
   },
   "file_extension": ".py",
   "mimetype": "text/x-python",
   "name": "python",
   "nbconvert_exporter": "python",
   "pygments_lexer": "ipython3",
   "version": "3.11.1"
  }
 },
 "nbformat": 4,
 "nbformat_minor": 5
}
